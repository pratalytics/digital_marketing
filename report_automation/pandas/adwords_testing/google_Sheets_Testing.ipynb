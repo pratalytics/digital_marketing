{
 "cells": [
  {
   "cell_type": "code",
   "execution_count": 1,
   "metadata": {},
   "outputs": [],
   "source": [
    "import pandas as pd\n",
    "from io import StringIO\n",
    "import requests"
   ]
  },
  {
   "cell_type": "markdown",
   "metadata": {},
   "source": [
    "### Pepperfry Account"
   ]
  },
  {
   "cell_type": "code",
   "execution_count": null,
   "metadata": {},
   "outputs": [],
   "source": [
    "act = requests.get(\"https://docs.google.com/spreadsheets/d/1TZ5VDuk7ZshCr81nFC9TT683aViQuZh1o1tmvWrWDds/export?format=csv&gid=0\")\n",
    "dataact = act.content.decode('utf-8')"
   ]
  },
  {
   "cell_type": "code",
   "execution_count": 45,
   "metadata": {},
   "outputs": [],
   "source": [
    "pf_fur_df = pd.read_csv(StringIO(dataact), thousands=',', parse_dates=['Date'])"
   ]
  },
  {
   "cell_type": "code",
   "execution_count": 50,
   "metadata": {},
   "outputs": [],
   "source": [
    "pf_fur_df['Account'] = 'Pepperfry'"
   ]
  },
  {
   "cell_type": "code",
   "execution_count": 51,
   "metadata": {},
   "outputs": [
    {
     "data": {
      "text/html": [
       "<div>\n",
       "<style scoped>\n",
       "    .dataframe tbody tr th:only-of-type {\n",
       "        vertical-align: middle;\n",
       "    }\n",
       "\n",
       "    .dataframe tbody tr th {\n",
       "        vertical-align: top;\n",
       "    }\n",
       "\n",
       "    .dataframe thead th {\n",
       "        text-align: right;\n",
       "    }\n",
       "</style>\n",
       "<table border=\"1\" class=\"dataframe\">\n",
       "  <thead>\n",
       "    <tr style=\"text-align: right;\">\n",
       "      <th></th>\n",
       "      <th>Date</th>\n",
       "      <th>Device</th>\n",
       "      <th>AdNetworkType1</th>\n",
       "      <th>CampaignName</th>\n",
       "      <th>Impressions</th>\n",
       "      <th>Clicks</th>\n",
       "      <th>Cost</th>\n",
       "      <th>Conversions</th>\n",
       "      <th>Account</th>\n",
       "    </tr>\n",
       "  </thead>\n",
       "  <tbody>\n",
       "    <tr>\n",
       "      <th>0</th>\n",
       "      <td>2018-07-08</td>\n",
       "      <td>Tablets with full browsers</td>\n",
       "      <td>Search Network</td>\n",
       "      <td>PLA_Furniture_StudyRooms_Converting_Aug2015</td>\n",
       "      <td>1657</td>\n",
       "      <td>32</td>\n",
       "      <td>587.33</td>\n",
       "      <td>0.0</td>\n",
       "      <td>Pepperfry</td>\n",
       "    </tr>\n",
       "    <tr>\n",
       "      <th>1</th>\n",
       "      <td>2018-07-28</td>\n",
       "      <td>Tablets with full browsers</td>\n",
       "      <td>Search Network</td>\n",
       "      <td>PLA_Furniture_StudyRooms_Converting_Aug2015</td>\n",
       "      <td>179</td>\n",
       "      <td>5</td>\n",
       "      <td>39.20</td>\n",
       "      <td>0.0</td>\n",
       "      <td>Pepperfry</td>\n",
       "    </tr>\n",
       "    <tr>\n",
       "      <th>2</th>\n",
       "      <td>2018-07-07</td>\n",
       "      <td>Computers</td>\n",
       "      <td>Search Network</td>\n",
       "      <td>PLA_Furniture_Tables_Converting_Aug2015</td>\n",
       "      <td>1087</td>\n",
       "      <td>8</td>\n",
       "      <td>293.11</td>\n",
       "      <td>0.0</td>\n",
       "      <td>Pepperfry</td>\n",
       "    </tr>\n",
       "  </tbody>\n",
       "</table>\n",
       "</div>"
      ],
      "text/plain": [
       "        Date                      Device  AdNetworkType1  \\\n",
       "0 2018-07-08  Tablets with full browsers  Search Network   \n",
       "1 2018-07-28  Tablets with full browsers  Search Network   \n",
       "2 2018-07-07                   Computers  Search Network   \n",
       "\n",
       "                                  CampaignName  Impressions  Clicks    Cost  \\\n",
       "0  PLA_Furniture_StudyRooms_Converting_Aug2015         1657      32  587.33   \n",
       "1  PLA_Furniture_StudyRooms_Converting_Aug2015          179       5   39.20   \n",
       "2      PLA_Furniture_Tables_Converting_Aug2015         1087       8  293.11   \n",
       "\n",
       "   Conversions    Account  \n",
       "0          0.0  Pepperfry  \n",
       "1          0.0  Pepperfry  \n",
       "2          0.0  Pepperfry  "
      ]
     },
     "execution_count": 51,
     "metadata": {},
     "output_type": "execute_result"
    }
   ],
   "source": [
    "pf_fur_df.head(3)"
   ]
  },
  {
   "cell_type": "code",
   "execution_count": null,
   "metadata": {},
   "outputs": [],
   "source": []
  },
  {
   "cell_type": "markdown",
   "metadata": {},
   "source": [
    "### DSP Blackrock"
   ]
  },
  {
   "cell_type": "code",
   "execution_count": 52,
   "metadata": {},
   "outputs": [],
   "source": [
    "act = requests.get(\"https://docs.google.com/spreadsheets/d/1GwBdtVYVK409QWvXlryx4RzunCbzxcQleeKIQqWi16I/export?format=csv&gid=0\")\n",
    "dataact = act.content.decode('utf-8')"
   ]
  },
  {
   "cell_type": "code",
   "execution_count": 53,
   "metadata": {},
   "outputs": [],
   "source": [
    "dsp_df = pd.read_csv(StringIO(dataact), thousands=',', parse_dates=['Date'])"
   ]
  },
  {
   "cell_type": "code",
   "execution_count": 54,
   "metadata": {},
   "outputs": [],
   "source": [
    "dsp_df['Account'] = 'DSP_Blackrock'"
   ]
  },
  {
   "cell_type": "code",
   "execution_count": null,
   "metadata": {},
   "outputs": [],
   "source": []
  },
  {
   "cell_type": "markdown",
   "metadata": {},
   "source": [
    "### Overall"
   ]
  },
  {
   "cell_type": "code",
   "execution_count": 55,
   "metadata": {},
   "outputs": [],
   "source": [
    "overall_df = pf_fur_df.append(dsp_df)"
   ]
  },
  {
   "cell_type": "code",
   "execution_count": 56,
   "metadata": {},
   "outputs": [
    {
     "data": {
      "text/plain": [
       "Pepperfry        25776\n",
       "DSP_Blackrock     5558\n",
       "Name: Account, dtype: int64"
      ]
     },
     "execution_count": 56,
     "metadata": {},
     "output_type": "execute_result"
    }
   ],
   "source": [
    "overall_df['Account'].value_counts()"
   ]
  },
  {
   "cell_type": "code",
   "execution_count": 57,
   "metadata": {},
   "outputs": [
    {
     "data": {
      "text/html": [
       "<div>\n",
       "<style scoped>\n",
       "    .dataframe tbody tr th:only-of-type {\n",
       "        vertical-align: middle;\n",
       "    }\n",
       "\n",
       "    .dataframe tbody tr th {\n",
       "        vertical-align: top;\n",
       "    }\n",
       "\n",
       "    .dataframe thead th {\n",
       "        text-align: right;\n",
       "    }\n",
       "</style>\n",
       "<table border=\"1\" class=\"dataframe\">\n",
       "  <thead>\n",
       "    <tr style=\"text-align: right;\">\n",
       "      <th></th>\n",
       "      <th>Impressions</th>\n",
       "      <th>Clicks</th>\n",
       "      <th>Cost</th>\n",
       "      <th>Conversions</th>\n",
       "    </tr>\n",
       "    <tr>\n",
       "      <th>Account</th>\n",
       "      <th></th>\n",
       "      <th></th>\n",
       "      <th></th>\n",
       "      <th></th>\n",
       "    </tr>\n",
       "  </thead>\n",
       "  <tbody>\n",
       "    <tr>\n",
       "      <th>DSP_Blackrock</th>\n",
       "      <td>70798447</td>\n",
       "      <td>442028</td>\n",
       "      <td>1882236.50</td>\n",
       "      <td>733.44</td>\n",
       "    </tr>\n",
       "    <tr>\n",
       "      <th>Pepperfry</th>\n",
       "      <td>102979381</td>\n",
       "      <td>2964024</td>\n",
       "      <td>12846589.31</td>\n",
       "      <td>171267.00</td>\n",
       "    </tr>\n",
       "  </tbody>\n",
       "</table>\n",
       "</div>"
      ],
      "text/plain": [
       "               Impressions   Clicks         Cost  Conversions\n",
       "Account                                                      \n",
       "DSP_Blackrock     70798447   442028   1882236.50       733.44\n",
       "Pepperfry        102979381  2964024  12846589.31    171267.00"
      ]
     },
     "execution_count": 57,
     "metadata": {},
     "output_type": "execute_result"
    }
   ],
   "source": [
    "overall_df.groupby(by=['Account']).sum()"
   ]
  },
  {
   "cell_type": "code",
   "execution_count": null,
   "metadata": {},
   "outputs": [],
   "source": []
  }
 ],
 "metadata": {
  "kernelspec": {
   "display_name": "Python 3",
   "language": "python",
   "name": "python3"
  },
  "language_info": {
   "codemirror_mode": {
    "name": "ipython",
    "version": 3
   },
   "file_extension": ".py",
   "mimetype": "text/x-python",
   "name": "python",
   "nbconvert_exporter": "python",
   "pygments_lexer": "ipython3",
   "version": "3.6.4"
  }
 },
 "nbformat": 4,
 "nbformat_minor": 2
}
